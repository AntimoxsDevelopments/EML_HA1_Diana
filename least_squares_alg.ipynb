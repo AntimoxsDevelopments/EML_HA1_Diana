{
 "cells": [
  {
   "cell_type": "code",
   "execution_count": null,
   "id": "initial_id",
   "metadata": {
    "collapsed": true
   },
   "outputs": [],
   "source": [
    "# Abgabegruppe: Diana Kanewski, Irini Metsios, Timo Heitmann\n",
    "import numpy as np\n",
    "import matplotlib.pyplot as plt\n",
    "\n",
    "\n",
    "def least_squares(a):\n",
    "    x, y = np.stack(a, axis=1)\n",
    "    x_av = np.average(x)\n",
    "    y_av = np.average(y)\n",
    "    w = np.sum((y - y_av) * x) / np.sum((x - x_av) * x)\n",
    "    b = y_av - w * x_av\n",
    "    return w, b\n",
    "\n",
    "\n",
    "data0 = np.load('dataset0.npy')\n",
    "data1 = np.load('dataset1.npy')\n",
    "data2 = np.load('dataset2.npy')\n",
    "\n",
    "x_range = np.linspace(0, 3, 100)\n",
    "\n",
    "fig, ax = plt.subplots()\n",
    "ax.scatter(*np.stack(data0, axis=1), c='#D32F2F', label='dataset0', s=5)\n",
    "ax.scatter(*np.stack(data1, axis=1), c='#F57C00', label='dataset1', s=5)\n",
    "ax.scatter(*np.stack(data2, axis=1), c='#FFCC00', label='dataset2', s=5)\n",
    "\n",
    "w0, b0 = least_squares(data0)\n",
    "w1, b1 = least_squares(data1)\n",
    "w2, b2 = least_squares(data2)\n",
    "\n",
    "plt.plot(x_range, w0 * x_range + b0, c='#689F38', label='linear regression of dataset0')\n",
    "plt.plot(x_range, w1 * x_range + b1, c='#1976D2', label='linear regression of dataset1')\n",
    "plt.plot(x_range, w2 * x_range + b2, c='#6E40BF', label='linear regression of dataset2')\n",
    "\n",
    "plt.title('Visualization of datasets')\n",
    "plt.xlabel('x-axis')\n",
    "plt.ylabel('y-axis')\n",
    "plt.xlim(0, 3)\n",
    "plt.legend()\n",
    "plt.show()\n"
   ]
  }
 ],
 "metadata": {
  "kernelspec": {
   "display_name": "Python 3",
   "language": "python",
   "name": "python3"
  },
  "language_info": {
   "codemirror_mode": {
    "name": "ipython",
    "version": 2
   },
   "file_extension": ".py",
   "mimetype": "text/x-python",
   "name": "python",
   "nbconvert_exporter": "python",
   "pygments_lexer": "ipython2",
   "version": "2.7.6"
  }
 },
 "nbformat": 4,
 "nbformat_minor": 5
}
